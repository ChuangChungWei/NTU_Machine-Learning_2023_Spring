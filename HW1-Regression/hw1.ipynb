{
 "cells": [
  {
   "cell_type": "markdown",
   "metadata": {
    "id": "guE34D3Fj2R9"
   },
   "source": [
    "# **Homework 1: COVID-19 Cases Prediction (Regression)**"
   ]
  },
  {
   "cell_type": "markdown",
   "metadata": {
    "id": "V57zhcTp1Xxb"
   },
   "source": [
    "Objectives:\n",
    "* Solve a regression problem with deep neural networks (DNN).\n",
    "* Understand basic DNN training tips.\n",
    "* Familiarize yourself with PyTorch.\n",
    "\n",
    "If you have any questions, please contact the TAs via TA hours, NTU COOL, or email to mlta-2023-spring@googlegroups.com"
   ]
  },
  {
   "cell_type": "code",
   "execution_count": 1,
   "metadata": {
    "colab": {
     "base_uri": "https://localhost:8080/"
    },
    "id": "GUATI4ONArv_",
    "outputId": "11e4a94c-1b59-43eb-98d8-820995bc0e0a"
   },
   "outputs": [
    {
     "name": "stdout",
     "output_type": "stream",
     "text": [
      "Sat Mar  4 21:35:22 2023       \n",
      "+-----------------------------------------------------------------------------+\n",
      "| NVIDIA-SMI 470.161.03   Driver Version: 470.161.03   CUDA Version: 11.4     |\n",
      "|-------------------------------+----------------------+----------------------+\n",
      "| GPU  Name        Persistence-M| Bus-Id        Disp.A | Volatile Uncorr. ECC |\n",
      "| Fan  Temp  Perf  Pwr:Usage/Cap|         Memory-Usage | GPU-Util  Compute M. |\n",
      "|                               |                      |               MIG M. |\n",
      "|===============================+======================+======================|\n",
      "|   0  NVIDIA GeForce ...  Off  | 00000000:01:00.0  On |                  N/A |\n",
      "| 53%   46C    P2   122W / 350W |   1055MiB / 24268MiB |      0%      Default |\n",
      "|                               |                      |                  N/A |\n",
      "+-------------------------------+----------------------+----------------------+\n",
      "                                                                               \n",
      "+-----------------------------------------------------------------------------+\n",
      "| Processes:                                                                  |\n",
      "|  GPU   GI   CI        PID   Type   Process name                  GPU Memory |\n",
      "|        ID   ID                                                   Usage      |\n",
      "|=============================================================================|\n",
      "|    0   N/A  N/A      1035      G   /usr/lib/xorg/Xorg                305MiB |\n",
      "|    0   N/A  N/A      1352      G   /usr/bin/gnome-shell               25MiB |\n",
      "|    0   N/A  N/A     12457      G   ...969642763065240442,131072       22MiB |\n",
      "|    0   N/A  N/A     13918      G   ...RendererForSitePerProcess       13MiB |\n",
      "|    0   N/A  N/A    750528      G   /usr/lib/firefox/firefox           17MiB |\n",
      "|    0   N/A  N/A    915847      G   ...mviewer/tv_bin/TeamViewer       13MiB |\n",
      "|    0   N/A  N/A    956153      C   ...a/envs/py37DRL/bin/python      651MiB |\n",
      "+-----------------------------------------------------------------------------+\n"
     ]
    }
   ],
   "source": [
    "# check gpu type\n",
    "!nvidia-smi"
   ]
  },
  {
   "cell_type": "markdown",
   "metadata": {
    "id": "Tm2aXcb-j9Fc"
   },
   "source": [
    "# Download data\n",
    "If the Google Drive links below do not work, you can use the dropbox link below or download data from [Kaggle](https://www.kaggle.com/competitions/ml2023spring-hw1/overview), and upload data manually to the workspace."
   ]
  },
  {
   "cell_type": "code",
   "execution_count": 2,
   "metadata": {
    "colab": {
     "base_uri": "https://localhost:8080/"
    },
    "id": "YPmfl-awlKZA",
    "outputId": "2d4dbf09-3ab9-4b8f-bb00-0ff0685581b1"
   },
   "outputs": [
    {
     "name": "stdout",
     "output_type": "stream",
     "text": [
      "--2023-03-04 21:35:23--  https://www.dropbox.com/s/lmy1riadzoy0ahw/covid.train.csv?dl=0\n",
      "Resolving www.dropbox.com (www.dropbox.com)... 162.125.85.18, 2620:100:6035:18::a27d:5512\n",
      "Connecting to www.dropbox.com (www.dropbox.com)|162.125.85.18|:443... connected.\n",
      "HTTP request sent, awaiting response... 302 Found\n",
      "Location: /s/raw/lmy1riadzoy0ahw/covid.train.csv [following]\n",
      "--2023-03-04 21:35:23--  https://www.dropbox.com/s/raw/lmy1riadzoy0ahw/covid.train.csv\n",
      "Reusing existing connection to www.dropbox.com:443.\n",
      "HTTP request sent, awaiting response... 302 Found\n",
      "Location: https://uc240c809eda59050830a2bafd33.dl.dropboxusercontent.com/cd/0/inline/B3mci3bxaaAUOyie66FWBjVptNnaLEmk40lvf_ApbFPZdt59MffnRYInQwzKJL1w08yvirviq6cGoCg83jMsaz8fokZ5agG5w5jvIV1dCl9YbMv3P43Sf2fHRif38OmqGYKFCEQyb7PD3pfdfCdegBtG0wWCaJMsNaQR1J4BrVNuew/file# [following]\n",
      "--2023-03-04 21:35:24--  https://uc240c809eda59050830a2bafd33.dl.dropboxusercontent.com/cd/0/inline/B3mci3bxaaAUOyie66FWBjVptNnaLEmk40lvf_ApbFPZdt59MffnRYInQwzKJL1w08yvirviq6cGoCg83jMsaz8fokZ5agG5w5jvIV1dCl9YbMv3P43Sf2fHRif38OmqGYKFCEQyb7PD3pfdfCdegBtG0wWCaJMsNaQR1J4BrVNuew/file\n",
      "Resolving uc240c809eda59050830a2bafd33.dl.dropboxusercontent.com (uc240c809eda59050830a2bafd33.dl.dropboxusercontent.com)... 162.125.85.15, 2620:100:6035:15::a27d:550f\n",
      "Connecting to uc240c809eda59050830a2bafd33.dl.dropboxusercontent.com (uc240c809eda59050830a2bafd33.dl.dropboxusercontent.com)|162.125.85.15|:443... connected.\n",
      "HTTP request sent, awaiting response... 200 OK\n",
      "Length: 2162766 (2.1M) [text/plain]\n",
      "Saving to: ‘covid_train.csv’\n",
      "\n",
      "covid_train.csv     100%[===================>]   2.06M  --.-KB/s    in 0.1s    \n",
      "\n",
      "2023-03-04 21:35:24 (16.3 MB/s) - ‘covid_train.csv’ saved [2162766/2162766]\n",
      "\n",
      "--2023-03-04 21:35:24--  https://www.dropbox.com/s/zalbw42lu4nmhr2/covid.test.csv?dl=0\n",
      "Resolving www.dropbox.com (www.dropbox.com)... 162.125.85.18, 2620:100:6035:18::a27d:5512\n",
      "Connecting to www.dropbox.com (www.dropbox.com)|162.125.85.18|:443... connected.\n",
      "HTTP request sent, awaiting response... 302 Found\n",
      "Location: /s/raw/zalbw42lu4nmhr2/covid.test.csv [following]\n",
      "--2023-03-04 21:35:25--  https://www.dropbox.com/s/raw/zalbw42lu4nmhr2/covid.test.csv\n",
      "Reusing existing connection to www.dropbox.com:443.\n",
      "HTTP request sent, awaiting response... 302 Found\n",
      "Location: https://uc32a7074e8b1d4b8b718a681d1e.dl.dropboxusercontent.com/cd/0/inline/B3lVOOJRuIfQk-_lP7ZyxXp5hc6aeucqzlkXomfX1xXUvXgzmHIvPRMCqg8qNMPx60o_1WrRoWRvzontacJZG954NOqTbmXrN58DDEtEQQVWMIG1zQl-TIlqbQEMSI7lmouZlWylhaoRTTVOBCGtrZRwCYYFqLtr9fqOfjvAql83AQ/file# [following]\n",
      "--2023-03-04 21:35:25--  https://uc32a7074e8b1d4b8b718a681d1e.dl.dropboxusercontent.com/cd/0/inline/B3lVOOJRuIfQk-_lP7ZyxXp5hc6aeucqzlkXomfX1xXUvXgzmHIvPRMCqg8qNMPx60o_1WrRoWRvzontacJZG954NOqTbmXrN58DDEtEQQVWMIG1zQl-TIlqbQEMSI7lmouZlWylhaoRTTVOBCGtrZRwCYYFqLtr9fqOfjvAql83AQ/file\n",
      "Resolving uc32a7074e8b1d4b8b718a681d1e.dl.dropboxusercontent.com (uc32a7074e8b1d4b8b718a681d1e.dl.dropboxusercontent.com)... 162.125.85.15, 2620:100:6035:15::a27d:550f\n",
      "Connecting to uc32a7074e8b1d4b8b718a681d1e.dl.dropboxusercontent.com (uc32a7074e8b1d4b8b718a681d1e.dl.dropboxusercontent.com)|162.125.85.15|:443... connected.\n",
      "HTTP request sent, awaiting response... 200 OK\n",
      "Length: 638359 (623K) [text/plain]\n",
      "Saving to: ‘covid_test.csv’\n",
      "\n",
      "covid_test.csv      100%[===================>] 623.40K  --.-KB/s    in 0.1s    \n",
      "\n",
      "2023-03-04 21:35:25 (5.09 MB/s) - ‘covid_test.csv’ saved [638359/638359]\n",
      "\n"
     ]
    }
   ],
   "source": [
    "# google drive link\n",
    "# !gdown --id '1BjXalPZxq9mybPKNjF3h5L3NcF7XKTS-' --output covid_train.csv\n",
    "# !gdown --id '1B55t74Jg2E5FCsKCsUEkPKIuqaY7UIi1' --output covid_test.csv\n",
    "\n",
    "# dropbox link\n",
    "!wget -O covid_train.csv https://www.dropbox.com/s/lmy1riadzoy0ahw/covid.train.csv?dl=0\n",
    "!wget -O covid_test.csv https://www.dropbox.com/s/zalbw42lu4nmhr2/covid.test.csv?dl=0"
   ]
  },
  {
   "cell_type": "markdown",
   "metadata": {
    "id": "igqIMEgu64-F"
   },
   "source": [
    "# Import packages"
   ]
  },
  {
   "cell_type": "code",
   "execution_count": 3,
   "metadata": {
    "id": "xybQNYCXYu13"
   },
   "outputs": [
    {
     "name": "stderr",
     "output_type": "stream",
     "text": [
      "/home/tonic/.conda/envs/py37DRL/lib/python3.7/site-packages/tqdm/auto.py:22: TqdmWarning: IProgress not found. Please update jupyter and ipywidgets. See https://ipywidgets.readthedocs.io/en/stable/user_install.html\n",
      "  from .autonotebook import tqdm as notebook_tqdm\n"
     ]
    }
   ],
   "source": [
    "# Numerical Operations\n",
    "import math\n",
    "import numpy as np\n",
    "\n",
    "# Reading/Writing Data\n",
    "import pandas as pd\n",
    "import os\n",
    "import csv\n",
    "\n",
    "# For Progress Bar\n",
    "from tqdm import tqdm\n",
    "\n",
    "# Pytorch\n",
    "import torch \n",
    "import torch.nn as nn\n",
    "from torch.utils.data import Dataset, DataLoader, random_split\n",
    "\n",
    "# For plotting learning curve\n",
    "from torch.utils.tensorboard import SummaryWriter"
   ]
  },
  {
   "cell_type": "markdown",
   "metadata": {
    "id": "fTAVqRfc2KK3"
   },
   "source": [
    "# Some Utility Functions\n",
    "\n",
    "You do not need to modify this part."
   ]
  },
  {
   "cell_type": "code",
   "execution_count": 4,
   "metadata": {
    "id": "RbrcpfYN2I-H"
   },
   "outputs": [],
   "source": [
    "def same_seed(seed): \n",
    "    '''Fixes random number generator seeds for reproducibility.'''\n",
    "    torch.backends.cudnn.deterministic = True\n",
    "    torch.backends.cudnn.benchmark = False\n",
    "    np.random.seed(seed)\n",
    "    torch.manual_seed(seed)\n",
    "    if torch.cuda.is_available():\n",
    "        torch.cuda.manual_seed_all(seed)\n",
    "\n",
    "def train_valid_split(data_set, valid_ratio, seed):\n",
    "    '''Split provided training data into training set and validation set'''\n",
    "    valid_set_size = int(valid_ratio * len(data_set)) \n",
    "    train_set_size = len(data_set) - valid_set_size\n",
    "    train_set, valid_set = random_split(data_set, [train_set_size, valid_set_size], generator=torch.Generator().manual_seed(seed))\n",
    "    return np.array(train_set), np.array(valid_set)\n",
    "\n",
    "def predict(test_loader, model, device):\n",
    "    model.eval() # Set your model to evaluation mode.\n",
    "    preds = []\n",
    "    for x in tqdm(test_loader):\n",
    "        x = x.to(device)                        \n",
    "        with torch.no_grad():                   \n",
    "            pred = model(x)                     \n",
    "            preds.append(pred.detach().cpu())   \n",
    "    preds = torch.cat(preds, dim=0).numpy()  \n",
    "    return preds"
   ]
  },
  {
   "cell_type": "markdown",
   "metadata": {
    "id": "IqO3lTm78nNO"
   },
   "source": [
    "# Dataset"
   ]
  },
  {
   "cell_type": "code",
   "execution_count": 5,
   "metadata": {
    "id": "-mjaJM0wprMs"
   },
   "outputs": [],
   "source": [
    "class COVID19Dataset(Dataset):\n",
    "    '''\n",
    "    x: Features.\n",
    "    y: Targets, if none, do prediction.\n",
    "    '''\n",
    "    def __init__(self, x, y=None):\n",
    "        if y is None:\n",
    "            self.y = y\n",
    "        else:\n",
    "            self.y = torch.FloatTensor(y)\n",
    "        self.x = torch.FloatTensor(x)\n",
    "\n",
    "    def __getitem__(self, idx):\n",
    "        if self.y is None:\n",
    "            return self.x[idx]\n",
    "        else:\n",
    "            return self.x[idx], self.y[idx]\n",
    "\n",
    "    def __len__(self):\n",
    "        return len(self.x)"
   ]
  },
  {
   "cell_type": "markdown",
   "metadata": {
    "id": "m73ooU75CL_j"
   },
   "source": [
    "# Neural Network Model\n",
    "Try out different model architectures by modifying the class below."
   ]
  },
  {
   "cell_type": "code",
   "execution_count": 6,
   "metadata": {
    "id": "Qn97_WvvrEkG"
   },
   "outputs": [],
   "source": [
    "class My_Model(nn.Module):\n",
    "    def __init__(self, input_dim):\n",
    "        super(My_Model, self).__init__()\n",
    "        # TODO: modify model's structure, be aware of dimensions. \n",
    "        self.layers = nn.Sequential(\n",
    "            nn.Linear(input_dim, 32),\n",
    "            nn.ReLU(),\n",
    "            nn.Linear(32, 16),\n",
    "            nn.ReLU(),\n",
    "            nn.Linear(16, 8),\n",
    "            nn.ReLU(),\n",
    "            nn.Linear(8, 128),\n",
    "            nn.ReLU(),\n",
    "            nn.Linear(128, 1)\n",
    "        )\n",
    "\n",
    "    def forward(self, x):\n",
    "        x = self.layers(x)\n",
    "        x = x.squeeze(1) # (B, 1) -> (B)\n",
    "        return x"
   ]
  },
  {
   "cell_type": "markdown",
   "metadata": {
    "id": "x5-LKF6R8xeq"
   },
   "source": [
    "# Feature Selection\n",
    "Choose features you deem useful by modifying the function below."
   ]
  },
  {
   "cell_type": "code",
   "execution_count": 7,
   "metadata": {
    "id": "0FEnKRaIIeKp"
   },
   "outputs": [],
   "source": [
    "from sklearn.svm import LinearSVC\n",
    "from sklearn.datasets import load_iris\n",
    "from sklearn.feature_selection import SelectFromModel\n",
    "from sklearn.feature_selection import f_classif\n",
    "from sklearn.feature_selection import SelectKBest, chi2,f_regression\n",
    "\n",
    "\n",
    "\n",
    "def select_feat(train_data, valid_data, test_data, select_all=False,kk=40):\n",
    "    '''Selects useful features to perform regression'''\n",
    "    y_train, y_valid = train_data[:,-1], valid_data[:,-1]\n",
    "    raw_x_train, raw_x_valid, raw_x_test = train_data[:,:-1], valid_data[:,:-1], test_data\n",
    "    \n",
    "    if select_all:\n",
    "        feat_idx = list(range(raw_x_train.shape[1]))\n",
    "    else:\n",
    "        feat_idx=[]\n",
    "        \n",
    "        model = SelectKBest(f_regression, k=kk)\n",
    "        #print(raw_x_valid.shape, y_valid.shape)\n",
    "        #print(\"score:\",model.scores_)\n",
    "        model.fit(raw_x_train,y_train)\n",
    "        #print(\"score:\",model.scores_)\n",
    "        feat_idx=model.get_support(indices=True)\n",
    "        \n",
    "        '''\n",
    "        for i in range(35,raw_x_train.shape[1]):\n",
    "          if i in choose_list:\n",
    "            feat_idx.append(i)\n",
    "        '''\n",
    "        \n",
    "        \n",
    "        \n",
    "        \n",
    "    print(feat_idx)\n",
    "    features=pd.read_csv('./covid_train.csv').columns\n",
    "    print(features[feat_idx])\n",
    "        \n",
    "    return raw_x_train[:,feat_idx], raw_x_valid[:,feat_idx], raw_x_test[:,feat_idx], y_train, y_valid"
   ]
  },
  {
   "cell_type": "markdown",
   "metadata": {
    "id": "kADIPNQ2Ih5X"
   },
   "source": [
    "# Training Loop"
   ]
  },
  {
   "cell_type": "code",
   "execution_count": 8,
   "metadata": {
    "id": "k4Rq8_TztAhq"
   },
   "outputs": [],
   "source": [
    "def trainer(train_loader, valid_loader, model, config, device,k,currentDateAndTime):\n",
    "\n",
    "    criterion = nn.MSELoss(reduction='mean') # Define your loss function, do not modify this.\n",
    "\n",
    "    # Define your optimization algorithm. \n",
    "    # TODO: Please check https://pytorch.org/docs/stable/optim.html to get more available algorithms.\n",
    "    # TODO: L2 regularization (optimizer(weight decay...) or implement by your self).\n",
    "    optimizer=0\n",
    "    if config['optimizer']==\"Adam\":\n",
    "        optimizer = torch.optim.Adam(model.parameters(), lr=config['learning_rate'], weight_decay=config['weightDecay'],amsgrad=config['amsgrad'],eps=config['eps'],betas=config['betas'])\n",
    "    elif config['optimizer']==\"RMSprop\":\n",
    "        optimizer = torch.optim.RMSprop(model.parameters(), lr=config['learning_rate'], momentum=0.8, weight_decay=config['weightDecay']) \n",
    "    elif config['optimizer']==\"Adagrad\":\n",
    "        optimizer = torch.optim.Adagrad(model.parameters(), lr=config['learning_rate'], weight_decay=config['weightDecay'])  \n",
    "    elif config['optimizer']==\"AdamW\":\n",
    "        optimizer = torch.optim.AdamW(model.parameters(), lr=config['learning_rate'], weight_decay=config['weightDecay'],amsgrad=config['amsgrad'],eps=config['eps'],betas=config['betas'])\n",
    "    scheduler=torch.optim.lr_scheduler.CosineAnnealingLR(optimizer,T_max=20)\n",
    "    \n",
    "    \n",
    "\n",
    "    writer = SummaryWriter() # Writer of tensoboard.\n",
    "\n",
    "    if not os.path.isdir('./models'):\n",
    "        os.mkdir('./models') # Create directory of saving models.\n",
    "\n",
    "    n_epochs, best_loss, step, early_stop_count = config['n_epochs'], math.inf, 0, 0\n",
    "\n",
    "    for epoch in range(n_epochs):\n",
    "        model.train() # Set your model to train mode.\n",
    "        loss_record = []\n",
    "\n",
    "        # tqdm is a package to visualize your training progress.\n",
    "        #train_pbar = tqdm(train_loader, position=0, leave=True)\n",
    "\n",
    "        for x, y in train_loader:\n",
    "            optimizer.zero_grad()               # Set gradient to zero.\n",
    "            x, y = x.to(device), y.to(device)   # Move your data to device. \n",
    "            pred = model(x)             \n",
    "            loss = criterion(pred, y)\n",
    "            loss.backward()                     # Compute gradient(backpropagation).\n",
    "            optimizer.step()                    # Update parameters.\n",
    "            step += 1\n",
    "            loss_record.append(loss.detach().item())\n",
    "        scheduler.step()\n",
    "            \n",
    "            # Display current epoch number and loss on tqdm progress bar.\n",
    "            #train_pbar.set_description(f'Epoch [{epoch+1}/{n_epochs}]')\n",
    "            #train_pbar.set_postfix({'loss': loss.detach().item()})\n",
    "\n",
    "        mean_train_loss = sum(loss_record)/len(loss_record)\n",
    "        writer.add_scalar('Loss/train', mean_train_loss, step)\n",
    "\n",
    "        model.eval() # Set your model to evaluation mode.\n",
    "        loss_record = []\n",
    "        for x, y in valid_loader:\n",
    "            x, y = x.to(device), y.to(device)\n",
    "            with torch.no_grad():\n",
    "                pred = model(x)\n",
    "                loss = criterion(pred, y)\n",
    "\n",
    "            loss_record.append(loss.item())\n",
    "            \n",
    "        mean_valid_loss = sum(loss_record)/len(loss_record)\n",
    "        sourceFile = open('demo/demo_'+str(currentDateAndTime)+'.txt', 'a+')\n",
    "        print(f'Epoch [{epoch+1}/{n_epochs}]: Train loss: {mean_train_loss:.4f}, Valid loss: {mean_valid_loss:.4f}', file = sourceFile)\n",
    "        sourceFile.close()\n",
    "        # writer.add_scalar('Loss/valid', mean_valid_loss, step)\n",
    "\n",
    "        if mean_valid_loss < best_loss:\n",
    "            best_loss = mean_valid_loss\n",
    "            torch.save(model.state_dict(), config['save_path']) # Save your best model\n",
    "            \n",
    "\n",
    "            #print('Saving model with loss {:.3f}...'.format(best_loss))\n",
    "            \n",
    "            early_stop_count = 0\n",
    "        else: \n",
    "            early_stop_count += 1\n",
    "\n",
    "        if early_stop_count >= config['early_stop']:\n",
    "            print('\\nModel is not improving, so we halt the training session.')\n",
    "            sourceFile = open('demo/demo_'+str(currentDateAndTime)+'.txt', 'a+')\n",
    "            print(best_loss, file = sourceFile)\n",
    "            sourceFile.close()\n",
    "            return best_loss\n",
    "    sourceFile = open('demo/demo_'+str(currentDateAndTime)+'.txt', 'a+')\n",
    "    print(best_loss, file = sourceFile)\n",
    "    sourceFile.close()\n",
    "    return best_loss"
   ]
  },
  {
   "cell_type": "markdown",
   "metadata": {
    "id": "0pgkOh2e9UjE"
   },
   "source": [
    "# Configurations\n",
    "`config` contains hyper-parameters for training and the path to save your model."
   ]
  },
  {
   "cell_type": "code",
   "execution_count": null,
   "metadata": {
    "id": "1bc4-kgFgBhn"
   },
   "outputs": [],
   "source": []
  },
  {
   "cell_type": "code",
   "execution_count": 9,
   "metadata": {
    "id": "QoWPUahCtoT6"
   },
   "outputs": [],
   "source": [
    "device = 'cuda' if torch.cuda.is_available() else 'cpu'\n",
    "config = {\n",
    "    'seed': 5201314 ,    # Your seed number, you can pick your lucky number. :)\n",
    "    'select_all': False,   # Whether to use all features.\n",
    "    'valid_ratio': 0.2,   # validation_size = train_size * valid_ratio\n",
    "    'n_epochs': 10000,     # Number of epochs.            \n",
    "    'batch_size': 256, \n",
    "    'learning_rate': 2e-3,              \n",
    "    'early_stop': 600,    # If model has not improved for this many consecutive epochs, stop training.     \n",
    "    'save_path': './models/model.ckpt' , # Your model will be saved herE\n",
    "    'weightDecay': 5e-4,\n",
    "    'optimizer': 'AdamW',\n",
    "    'amsgrad':True,\n",
    "    'eps':1e-8,\n",
    "    'betas':(0.9, 0.999)\n",
    "}\n"
   ]
  },
  {
   "cell_type": "markdown",
   "metadata": {
    "id": "lrS-aJJh9XkW"
   },
   "source": [
    "# Dataloader\n",
    "Read data from files and set up training, validation, and testing sets. You do not need to modify this part."
   ]
  },
  {
   "cell_type": "code",
   "execution_count": 10,
   "metadata": {
    "id": "2jc7ZfDot2t9"
   },
   "outputs": [],
   "source": [
    "#from sklearn.preprocessing import MinMaxScaler\n",
    "def get_data_loader(k):\n",
    "  same_seed(config['seed'])\n",
    "  train_data, test_data = pd.read_csv('./covid_train.csv').values, pd.read_csv('./covid_test.csv').values\n",
    "  train_data, valid_data = train_valid_split(train_data, config['valid_ratio'], config['seed'])\n",
    "  # Select features\n",
    "  x_train, x_valid, x_test, y_train, y_valid = select_feat(train_data, valid_data, test_data,config['select_all'],k)\n",
    "  #x_train, x_valid, x_test, y_train, y_valid=pca(x_train, x_valid, x_test, y_train, y_valid)\n",
    "  # Print out the data size.\n",
    "  '''\n",
    "  scaler = MinMaxScaler()\n",
    "  x_train = scaler.fit_transform(x_train)\n",
    "  x_valid = scaler.fit_transform(x_valid)\n",
    "  x_test = scaler.transform(x_test)\n",
    "  '''\n",
    "  #print(x_train)\n",
    "  print(f\"\"\"train_data size: {train_data.shape} \n",
    "  valid_data size: {valid_data.shape} \n",
    "  test_data size: {test_data.shape}\"\"\")\n",
    "\n",
    "\n",
    "\n",
    "  # Print out the number of features.\n",
    "  print(f'number of features: {x_train.shape[1]}')\n",
    "\n",
    "  train_dataset, valid_dataset, test_dataset = COVID19Dataset(x_train, y_train), \\\n",
    "                                              COVID19Dataset(x_valid, y_valid), \\\n",
    "                                              COVID19Dataset(x_test)\n",
    "\n",
    "  # Pytorch data loader loads pytorch dataset into batches.\n",
    "  train_loader = DataLoader(train_dataset, batch_size=config['batch_size'], shuffle=True, pin_memory=True)\n",
    "  valid_loader = DataLoader(valid_dataset, batch_size=config['batch_size'], shuffle=True, pin_memory=True)\n",
    "  test_loader = DataLoader(test_dataset, batch_size=config['batch_size'], shuffle=False, pin_memory=True)\n",
    "  return train_loader,valid_loader,test_loader,x_train"
   ]
  },
  {
   "cell_type": "markdown",
   "metadata": {
    "id": "0OBYgjCA-YwD"
   },
   "source": [
    "# Start training!"
   ]
  },
  {
   "attachments": {},
   "cell_type": "markdown",
   "metadata": {},
   "source": [
    "### Method1"
   ]
  },
  {
   "cell_type": "code",
   "execution_count": 11,
   "metadata": {},
   "outputs": [],
   "source": [
    "from numpy import absolute\n",
    "from pandas import read_csv\n",
    "from sklearn.model_selection import cross_val_score\n",
    "from sklearn.model_selection import RepeatedKFold\n",
    "from xgboost import XGBRegressor\n",
    "from sklearn.linear_model import LinearRegression\n",
    "from sklearn.metrics import mean_squared_error\n",
    "from sklearn.svm import SVC\n",
    "def getLinearRegressionResult():\n",
    "    train_data, test_data = pd.read_csv('./covid_train.csv').values, pd.read_csv('./covid_test.csv').values\n",
    "    train_data, valid_data = train_valid_split(train_data, 0.2, config['seed'])\n",
    "    x_train, x_valid, x_test, y_train, y_valid = select_feat(train_data, valid_data, test_data,config['select_all'],k)\n",
    "\n",
    "    #model = XGBRegressor(n_estimators=10000, max_depth=1000, eta=0.1, subsample=0.7, colsample_bytree=0.8)\n",
    "    #model=  XGBRegressor()\n",
    "    model =LinearRegression()\n",
    "\n",
    "    model.fit(x_train, y_train)\n",
    "    # define model evaluation method\n",
    "    #print(model.predict(x_test))\n",
    "    pred=model.predict(x_valid)\n",
    "    #print(model.score(x_train, y_train))\n",
    "    err=mean_squared_error(pred,y_valid)\n",
    "    #print(err)\n",
    "    pred=model.predict(x_test)\n",
    "    return pred\n",
    "#pred=getLinearRegressionResult()"
   ]
  },
  {
   "cell_type": "code",
   "execution_count": 12,
   "metadata": {
    "id": "-ebixsgPBH-V"
   },
   "outputs": [],
   "source": [
    "def save_pred(preds, file):\n",
    "  ''' Save predictions to specified file '''\n",
    "  with open(file, 'w') as fp:\n",
    "      writer = csv.writer(fp)\n",
    "      writer.writerow(['id', 'tested_positive'])\n",
    "      for i, p in enumerate(preds):\n",
    "          writer.writerow([i, p])"
   ]
  },
  {
   "cell_type": "code",
   "execution_count": 13,
   "metadata": {},
   "outputs": [
    {
     "name": "stdout",
     "output_type": "stream",
     "text": [
      "[35 36 37 47 48 52 53 54 55 65 66 70 71 72 73 83 84]\n",
      "Index(['cli', 'ili', 'wnohh_cmnty_cli', 'hh_cmnty_cli', 'nohh_cmnty_cli',\n",
      "       'tested_positive', 'cli.1', 'ili.1', 'wnohh_cmnty_cli.1',\n",
      "       'hh_cmnty_cli.1', 'nohh_cmnty_cli.1', 'tested_positive.1', 'cli.2',\n",
      "       'ili.2', 'wnohh_cmnty_cli.2', 'hh_cmnty_cli.2', 'nohh_cmnty_cli.2'],\n",
      "      dtype='object')\n",
      "train_data size: (2408, 89) \n",
      "  valid_data size: (601, 89) \n",
      "  test_data size: (997, 88)\n",
      "number of features: 17\n",
      "\n",
      "Model is not improving, so we halt the training session.\n",
      "0.747297336657842\n",
      "{'seed': 5201314, 'select_all': False, 'valid_ratio': 0.2, 'n_epochs': 10000, 'batch_size': 256, 'learning_rate': 0.002, 'early_stop': 600, 'save_path': './models/model.ckpt', 'weightDecay': 0.0005, 'optimizer': 'AdamW', 'amsgrad': True, 'eps': 1e-08, 'betas': (0.9, 0.999)}\n",
      "My_Model(\n",
      "  (layers): Sequential(\n",
      "    (0): Linear(in_features=17, out_features=32, bias=True)\n",
      "    (1): ReLU()\n",
      "    (2): Linear(in_features=32, out_features=16, bias=True)\n",
      "    (3): ReLU()\n",
      "    (4): Linear(in_features=16, out_features=8, bias=True)\n",
      "    (5): ReLU()\n",
      "    (6): Linear(in_features=8, out_features=128, bias=True)\n",
      "    (7): ReLU()\n",
      "    (8): Linear(in_features=128, out_features=1, bias=True)\n",
      "  )\n",
      ")\n"
     ]
    }
   ],
   "source": [
    "from datetime import datetime\n",
    "try:\n",
    "    os.mkdir(\"demo\")\n",
    "except:\n",
    "    pass\n",
    "currentDateAndTime = datetime.now()\n",
    "k=17\n",
    "train_loader,valid_loader,test_loader,x_train=get_data_loader(k)\n",
    "sourceFile = open('demo/demo_'+str(currentDateAndTime)+'.txt', 'w')\n",
    "\n",
    "model = My_Model(input_dim=x_train.shape[1]).to(device) # put your model and data on the same computation device.\n",
    "print(config, model,file = sourceFile)\n",
    "\n",
    "sourceFile.close()\n",
    "loss=trainer(train_loader, valid_loader, model, config, device,k,currentDateAndTime)\n",
    "\n",
    "print(loss)\n",
    "print(config)\n",
    "print(model)"
   ]
  },
  {
   "attachments": {},
   "cell_type": "markdown",
   "metadata": {},
   "source": [
    "### Method2"
   ]
  },
  {
   "cell_type": "code",
   "execution_count": 14,
   "metadata": {},
   "outputs": [
    {
     "name": "stdout",
     "output_type": "stream",
     "text": [
      "[35 36 37 47 48 52 53 54 55 65 66 70 71 72 73 83 84]\n",
      "Index(['cli', 'ili', 'wnohh_cmnty_cli', 'hh_cmnty_cli', 'nohh_cmnty_cli',\n",
      "       'tested_positive', 'cli.1', 'ili.1', 'wnohh_cmnty_cli.1',\n",
      "       'hh_cmnty_cli.1', 'nohh_cmnty_cli.1', 'tested_positive.1', 'cli.2',\n",
      "       'ili.2', 'wnohh_cmnty_cli.2', 'hh_cmnty_cli.2', 'nohh_cmnty_cli.2'],\n",
      "      dtype='object')\n",
      "train_data size: (2408, 89) \n",
      "  valid_data size: (601, 89) \n",
      "  test_data size: (997, 88)\n",
      "number of features: 17\n",
      "\n",
      "Model is not improving, so we halt the training session.\n",
      "0.747297336657842\n",
      "{'seed': 5201314, 'select_all': False, 'valid_ratio': 0.2, 'n_epochs': 10000, 'batch_size': 256, 'learning_rate': 0.002, 'early_stop': 600, 'save_path': './models/model.ckpt', 'weightDecay': 0.0005, 'optimizer': 'AdamW', 'amsgrad': True, 'eps': 1e-08, 'betas': (0.9, 0.999)}\n",
      "My_Model(\n",
      "  (layers): Sequential(\n",
      "    (0): Linear(in_features=17, out_features=32, bias=True)\n",
      "    (1): ReLU()\n",
      "    (2): Linear(in_features=32, out_features=16, bias=True)\n",
      "    (3): ReLU()\n",
      "    (4): Linear(in_features=16, out_features=8, bias=True)\n",
      "    (5): ReLU()\n",
      "    (6): Linear(in_features=8, out_features=128, bias=True)\n",
      "    (7): ReLU()\n",
      "    (8): Linear(in_features=128, out_features=1, bias=True)\n",
      "  )\n",
      ")\n"
     ]
    }
   ],
   "source": [
    "from datetime import datetime\n",
    "currentDateAndTime = datetime.now()\n",
    "k=17\n",
    "train_loader,valid_loader,test_loader,x_train=get_data_loader(k)\n",
    "sourceFile = open('demo/demo_'+str(currentDateAndTime)+'.txt', 'w')\n",
    "\n",
    "model = My_Model(input_dim=x_train.shape[1]).to(device) # put your model and data on the same computation device.\n",
    "print(config, model,file = sourceFile)\n",
    "\n",
    "sourceFile.close()\n",
    "loss=trainer(train_loader, valid_loader, model, config, device,k,currentDateAndTime)\n",
    "\n",
    "print(loss)\n",
    "print(config)\n",
    "print(model)"
   ]
  },
  {
   "cell_type": "code",
   "execution_count": 15,
   "metadata": {},
   "outputs": [],
   "source": [
    "config = {\n",
    "    'seed': 5201314 ,    # Your seed number, you can pick your lucky number. :)\n",
    "    'select_all': False,   # Whether to use all features.\n",
    "    'valid_ratio': 0.2,   # validation_size = train_size * valid_ratio\n",
    "    'n_epochs': 10000,     # Number of epochs.            \n",
    "    'batch_size': 256, \n",
    "    'learning_rate': 2e-3,              \n",
    "    'early_stop': 600,    # If model has not improved for this many consecutive epochs, stop training.     \n",
    "    'save_path': './models/model2.ckpt' , # Your model will be saved herE\n",
    "    'weightDecay': 5e-4,\n",
    "    'optimizer': 'RMSprop',\n",
    "    'amsgrad':True,\n",
    "    'eps':1e-8,\n",
    "    'betas':(0.9, 0.999)\n",
    "}"
   ]
  },
  {
   "cell_type": "code",
   "execution_count": 16,
   "metadata": {},
   "outputs": [
    {
     "name": "stdout",
     "output_type": "stream",
     "text": [
      "[35 36 37 47 48 52 53 54 55 65 66 70 71 72 73 83 84]\n",
      "Index(['cli', 'ili', 'wnohh_cmnty_cli', 'hh_cmnty_cli', 'nohh_cmnty_cli',\n",
      "       'tested_positive', 'cli.1', 'ili.1', 'wnohh_cmnty_cli.1',\n",
      "       'hh_cmnty_cli.1', 'nohh_cmnty_cli.1', 'tested_positive.1', 'cli.2',\n",
      "       'ili.2', 'wnohh_cmnty_cli.2', 'hh_cmnty_cli.2', 'nohh_cmnty_cli.2'],\n",
      "      dtype='object')\n",
      "train_data size: (2408, 89) \n",
      "  valid_data size: (601, 89) \n",
      "  test_data size: (997, 88)\n",
      "number of features: 17\n",
      "\n",
      "Model is not improving, so we halt the training session.\n",
      "0.7632689674695333\n",
      "{'seed': 5201314, 'select_all': False, 'valid_ratio': 0.2, 'n_epochs': 10000, 'batch_size': 256, 'learning_rate': 0.002, 'early_stop': 600, 'save_path': './models/model2.ckpt', 'weightDecay': 0.0005, 'optimizer': 'RMSprop', 'amsgrad': True, 'eps': 1e-08, 'betas': (0.9, 0.999)}\n",
      "My_Model(\n",
      "  (layers): Sequential(\n",
      "    (0): Linear(in_features=17, out_features=32, bias=True)\n",
      "    (1): ReLU()\n",
      "    (2): Linear(in_features=32, out_features=16, bias=True)\n",
      "    (3): ReLU()\n",
      "    (4): Linear(in_features=16, out_features=8, bias=True)\n",
      "    (5): ReLU()\n",
      "    (6): Linear(in_features=8, out_features=128, bias=True)\n",
      "    (7): ReLU()\n",
      "    (8): Linear(in_features=128, out_features=1, bias=True)\n",
      "  )\n",
      ")\n"
     ]
    }
   ],
   "source": [
    "from datetime import datetime\n",
    "currentDateAndTime = datetime.now()\n",
    "k=17\n",
    "train_loader,valid_loader,test_loader,x_train=get_data_loader(k)\n",
    "sourceFile = open('demo/demo_'+str(currentDateAndTime)+'.txt', 'w')\n",
    "\n",
    "model2 = My_Model(input_dim=x_train.shape[1]).to(device) # put your model and data on the same computation device.\n",
    "print(config, model,file = sourceFile)\n",
    "\n",
    "sourceFile.close()\n",
    "loss=trainer(train_loader, valid_loader, model, config, device,k,currentDateAndTime)\n",
    "\n",
    "print(loss)\n",
    "print(config)\n",
    "print(model)"
   ]
  },
  {
   "attachments": {},
   "cell_type": "markdown",
   "metadata": {
    "id": "yhAHGqC9-woK"
   },
   "source": [
    "### Testing\n",
    "The predictions of your model on testing set will be stored at `pred.csv`."
   ]
  },
  {
   "cell_type": "code",
   "execution_count": 17,
   "metadata": {},
   "outputs": [
    {
     "name": "stderr",
     "output_type": "stream",
     "text": [
      "100%|██████████| 4/4 [00:00<00:00, 768.93it/s]\n",
      "100%|██████████| 4/4 [00:00<00:00, 1597.37it/s]\n"
     ]
    }
   ],
   "source": [
    "\n",
    "def save_pred(preds, file):\n",
    "    ''' Save predictions to specified file '''\n",
    "    with open(file, 'w') as fp:\n",
    "        writer = csv.writer(fp)\n",
    "        writer.writerow(['id', 'tested_positive'])\n",
    "        for i, p in enumerate(preds):\n",
    "            writer.writerow([i, p])\n",
    "\n",
    "model = My_Model(input_dim=x_train.shape[1]).to(device)\n",
    "model.load_state_dict(torch.load('./models/model.ckpt'))\n",
    "model2 = My_Model(input_dim=x_train.shape[1]).to(device)\n",
    "model2.load_state_dict(torch.load('./models/model2.ckpt'))\n",
    "preds = predict(test_loader, model, device)\n",
    "preds2= predict(test_loader, model2, device)\n",
    "preds=(preds+preds2)/2\n",
    "save_pred(preds, 'pred2.csv')"
   ]
  },
  {
   "cell_type": "markdown",
   "metadata": {
    "id": "Ik09KPqU-di-"
   },
   "source": [
    "# Plot learning curves with `tensorboard` (optional)\n",
    "\n",
    "`tensorboard` is a tool that allows you to visualize your training progress.\n",
    "\n",
    "If this block does not display your learning curve, please wait for few minutes, and re-run this block. It might take some time to load your logging information. "
   ]
  },
  {
   "cell_type": "code",
   "execution_count": 18,
   "metadata": {
    "id": "loA4nKmLGQ-n"
   },
   "outputs": [
    {
     "data": {
      "text/plain": [
       "Reusing TensorBoard on port 6006 (pid 917056), started 12:44:00 ago. (Use '!kill 917056' to kill it.)"
      ]
     },
     "metadata": {},
     "output_type": "display_data"
    },
    {
     "data": {
      "text/html": [
       "\n",
       "        <iframe\n",
       "            width=\"100%\"\n",
       "            height=\"800\"\n",
       "            src=\"http://localhost:6006\"\n",
       "            frameborder=\"0\"\n",
       "            allowfullscreen\n",
       "            \n",
       "        ></iframe>\n",
       "        "
      ],
      "text/plain": [
       "<IPython.lib.display.IFrame at 0x7fb30c518d50>"
      ]
     },
     "metadata": {},
     "output_type": "display_data"
    }
   ],
   "source": [
    "%reload_ext tensorboard\n",
    "%tensorboard --logdir=./runs/"
   ]
  },
  {
   "cell_type": "markdown",
   "metadata": {
    "id": "T_N-wBvVahc7"
   },
   "source": [
    "# Download\n",
    "\n",
    "Run this block to download the `pred.csv` automatically."
   ]
  },
  {
   "cell_type": "code",
   "execution_count": 19,
   "metadata": {
    "id": "PmMnwrHeavJv"
   },
   "outputs": [
    {
     "ename": "ModuleNotFoundError",
     "evalue": "No module named 'google.colab'",
     "output_type": "error",
     "traceback": [
      "\u001b[0;31m---------------------------------------------------------------------------\u001b[0m",
      "\u001b[0;31mModuleNotFoundError\u001b[0m                       Traceback (most recent call last)",
      "\u001b[0;32m/tmp/ipykernel_956206/3244200149.py\u001b[0m in \u001b[0;36m<module>\u001b[0;34m\u001b[0m\n\u001b[0;32m----> 1\u001b[0;31m \u001b[0;32mfrom\u001b[0m \u001b[0mgoogle\u001b[0m\u001b[0;34m.\u001b[0m\u001b[0mcolab\u001b[0m \u001b[0;32mimport\u001b[0m \u001b[0mfiles\u001b[0m\u001b[0;34m\u001b[0m\u001b[0;34m\u001b[0m\u001b[0m\n\u001b[0m\u001b[1;32m      2\u001b[0m \u001b[0mfiles\u001b[0m\u001b[0;34m.\u001b[0m\u001b[0mdownload\u001b[0m\u001b[0;34m(\u001b[0m\u001b[0;34m'pred.csv'\u001b[0m\u001b[0;34m)\u001b[0m\u001b[0;34m\u001b[0m\u001b[0;34m\u001b[0m\u001b[0m\n",
      "\u001b[0;31mModuleNotFoundError\u001b[0m: No module named 'google.colab'"
     ]
    }
   ],
   "source": [
    "from google.colab import files\n",
    "files.download('pred.csv')"
   ]
  },
  {
   "cell_type": "markdown",
   "metadata": {
    "id": "IJ_k5rY0GvSV"
   },
   "source": [
    "# Reference\n",
    "This notebook uses code written by Heng-Jui Chang @ NTUEE (https://github.com/ga642381/ML2021-Spring/blob/main/HW01/HW01.ipynb)"
   ]
  },
  {
   "cell_type": "code",
   "execution_count": null,
   "metadata": {
    "id": "bY5uDBH75xyu"
   },
   "outputs": [
    {
     "ename": "",
     "evalue": "",
     "output_type": "error",
     "traceback": [
      "\u001b[1;31mRunning cells with '/bin/python3' requires ipykernel package.\n",
      "\u001b[1;31mRun the following command to install 'ipykernel' into the Python environment. \n",
      "\u001b[1;31mCommand: '/bin/python3 -m pip install ipykernel -U --user --force-reinstall'"
     ]
    }
   ],
   "source": []
  }
 ],
 "metadata": {
  "accelerator": "TPU",
  "colab": {
   "provenance": []
  },
  "gpuClass": "standard",
  "kernelspec": {
   "display_name": "py37DRL",
   "language": "python",
   "name": "python3"
  },
  "language_info": {
   "codemirror_mode": {
    "name": "ipython",
    "version": 3
   },
   "file_extension": ".py",
   "mimetype": "text/x-python",
   "name": "python",
   "nbconvert_exporter": "python",
   "pygments_lexer": "ipython3",
   "version": "3.7.15"
  },
  "vscode": {
   "interpreter": {
    "hash": "e352e5b39d9aec3871553882ee27c239a2c917e4f739c30cbf43b46b0b48280f"
   }
  }
 },
 "nbformat": 4,
 "nbformat_minor": 1
}
